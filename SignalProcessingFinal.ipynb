{
 "cells": [
  {
   "cell_type": "code",
   "execution_count": null,
   "metadata": {},
   "outputs": [],
   "source": [
    "import numpy as np\n",
    "from scipy.io import wavfile\n",
    "import matplotlib.pyplot as plt\n",
    "import os\n",
    "import soundfile\n",
    "import librosa"
   ]
  },
  {
   "cell_type": "code",
   "execution_count": null,
   "metadata": {},
   "outputs": [],
   "source": [
    "#folder_path = \"data/audio/fold1\"\n",
    "folder_path = \"data/audioMNIST/data\"\n",
    "# Get a list of all files in the folder_path\n",
    "all_files = os.listdir(folder_path)\n",
    "\n",
    "# Sample 3 files from the list\n",
    "sample_file = np.random.choice(all_files, size=1, replace=False)\n",
    "\n",
    "sr , _ = wavfile.read(folder_path + \"/\" + sample_file[0])\n",
    "print(\"Sample rate of the audio file: \", sr)\n",
    "y, sr = librosa.load(folder_path + \"/\" + sample_file[0], sr=sr)\n",
    "plt.plot(y);\n",
    "plt.title(sample_file[0]);\n",
    "plt.xlabel('Time (samples)');\n",
    "plt.ylabel('Amplitude');\n"
   ]
  },
  {
   "cell_type": "code",
   "execution_count": null,
   "metadata": {},
   "outputs": [],
   "source": [
    "folder_path = \"data/audioMNIST/data/\"\n",
    "        \n",
    "durations = [len(librosa.load(folder_path+file, sr=sr)[0])/sr for file in all_files if file.endswith('.wav')]\n",
    "\n",
    "plt.hist(durations, bins=30, edgecolor='black')\n",
    "plt.title('Histogram of Audio Durations')\n",
    "plt.xlabel('Duration (seconds)')\n",
    "plt.ylabel('Frequency')\n",
    "plt.show()"
   ]
  },
  {
   "cell_type": "code",
   "execution_count": null,
   "metadata": {},
   "outputs": [],
   "source": [
    "max_duration = np.argmax(durations)\n",
    "min_duration = np.argmin(durations)\n",
    "print('Longest audio file:', all_files[max_duration], 'Duration:', durations[max_duration], 'seconds')\n",
    "print('Shortest audio file:', all_files[min_duration], 'Duration:', durations[min_duration], 'seconds')"
   ]
  },
  {
   "cell_type": "code",
   "execution_count": null,
   "metadata": {},
   "outputs": [],
   "source": [
    "# Calculate Q1 (25th percentile) and Q3 (75th percentile)\n",
    "Q1 = np.percentile(durations, 1)\n",
    "Q3 = np.percentile(durations, 99)\n",
    "print('Q1:', Q1)\n",
    "print('Q3:', Q3)\n",
    "\n",
    "# Find the outliers\n",
    "duration_outliers = [d for d in durations if d < Q1 or d > Q3]\n",
    "np.size(duration_outliers)\n",
    "print('Number of outliers:', np.size(duration_outliers))"
   ]
  },
  {
   "cell_type": "code",
   "execution_count": null,
   "metadata": {},
   "outputs": [],
   "source": [
    "y = librosa.util.fix_length(y, size = 8000)"
   ]
  },
  {
   "cell_type": "code",
   "execution_count": null,
   "metadata": {},
   "outputs": [],
   "source": [
    "n_fft = 128\n",
    "spec = np.abs(librosa.stft(y, n_fft=n_fft, hop_length=n_fft//2))\n",
    "spec_db = librosa.amplitude_to_db(spec, ref=np.max)\n",
    "librosa.display.specshow(spec_db, sr=sr, x_axis='time', y_axis='linear', fmax = sr//2, fmin=0)\n",
    "plt.colorbar(format='%+2.0f dB')\n",
    "plt.title('Spectrogram')"
   ]
  },
  {
   "cell_type": "code",
   "execution_count": null,
   "metadata": {},
   "outputs": [],
   "source": [
    "fig, ax = plt.subplots(nrows=2, sharex=True, sharey=True)\n",
    "\n",
    "librosa.display.waveshow(y_reconstructed, sr=sr, ax=ax[0])\n",
    "librosa.display.waveshow(y, sr=sr, ax=ax[1])\n",
    "ax[0].set(title='Mel Reconstruction', xlabel=None)\n",
    "ax[0].label_outer()\n",
    "ax[1].set(title='Original', xlabel=None)\n",
    "ax[1].label_outer()"
   ]
  }
 ],
 "metadata": {
  "language_info": {
   "name": "python"
  }
 },
 "nbformat": 4,
 "nbformat_minor": 2
}
