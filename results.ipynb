{
 "cells": [
  {
   "cell_type": "code",
   "execution_count": 5,
   "metadata": {},
   "outputs": [],
   "source": [
    "from utils import *\n",
    "import os\n",
    "import numpy as np\n",
    "from griffin_lim import *\n",
    "import matplotlib.pyplot as plt\n",
    "import soundfile as sf\n",
    "from tqdm import tqdm"
   ]
  },
  {
   "cell_type": "markdown",
   "metadata": {},
   "source": [
    "# Reconstrunction of original signals from retrieved spectrograms through Griffin-Lim"
   ]
  },
  {
   "cell_type": "markdown",
   "metadata": {},
   "source": [
    "## Audio MNIST"
   ]
  },
  {
   "cell_type": "code",
   "execution_count": null,
   "metadata": {},
   "outputs": [],
   "source": [
    "# audio mnist signal reconstrunction using griffin lim\n",
    "\n",
    "win_sizes = [512, 1024, 2048] # specify the window sizes\n",
    "sr = 48000 # specify the sample rate\n",
    "\n",
    "for win_size in win_sizes:\n",
    "\n",
    "    # gather all the files in the folder\n",
    "    folder_path = f\"results_mat/iDLG_audio_mnist{str(win_size)}\"\n",
    "    all_files = os.listdir(folder_path) \n",
    "\n",
    "    # specify parameters for the stft and istft\n",
    "    hop = win_size // 2\n",
    "    win = 'hamming'\n",
    "    i = 0\n",
    "\n",
    "    # iterate over all the files in the folder\n",
    "    for file in all_files:\n",
    "        spec_db = np.load(f'{folder_path}/{file}')\n",
    "        inverse_spec = np.array(10**(spec_db[0][0]/20))\n",
    "        try:\n",
    "            y_reconstructed = mfgla(inverse_spec, iterations=1000, stft_kwargs={'n_fft': win_size, 'hop_length': hop, 'window' : win, 'center' : None }\n",
    "                                , istft_kwargs={'n_fft': win_size, 'hop_length': hop, 'window' : win, 'center' : None })\n",
    "        except Exception as e:\n",
    "            print(f\"Error processing {file} - {e}\")\n",
    "            continue\n",
    "        \n",
    "        # save reconstructed audio as an .wav file\n",
    "        sf.write(f'results_audio/audio_mnist{str(win_size)}/' + file.replace(\"npy\",\"wav\"), y_reconstructed, sr)\n",
    "        \n",
    "        print(f\"Processed {i}/{len(all_files)} files\")\n",
    "        i += 1"
   ]
  },
  {
   "cell_type": "markdown",
   "metadata": {},
   "source": [
    "## Urbansound8K"
   ]
  },
  {
   "cell_type": "markdown",
   "metadata": {},
   "source": [
    "Load all files, and gather samplerate for each file in a dictionary."
   ]
  },
  {
   "cell_type": "code",
   "execution_count": 6,
   "metadata": {},
   "outputs": [],
   "source": [
    "audio_data = load_data(\"data/audio\")\n",
    "audio_data = [data for data in audio_data if len(data[0]) in [176400, 192000]]"
   ]
  },
  {
   "cell_type": "code",
   "execution_count": null,
   "metadata": {},
   "outputs": [],
   "source": [
    "sample_rate_dict = {file_name: sample_rate for _, sample_rate, file_name in audio_data}\n",
    "print(sample_rate_dict)"
   ]
  },
  {
   "cell_type": "markdown",
   "metadata": {},
   "source": [
    "Griffin-Lim of all files."
   ]
  },
  {
   "cell_type": "code",
   "execution_count": null,
   "metadata": {},
   "outputs": [],
   "source": [
    "# urbansound signal reconstrunction using griffin lim\n",
    "\n",
    "win_sizes = [512,1024, 2048]\n",
    "for win_size in win_sizes:\n",
    "\n",
    "    # gather all the files in the result folder\n",
    "    folder_path = f\"results_mat/iDLG_urbansound{str(win_size)}\"\n",
    "    all_files = os.listdir(folder_path)\n",
    "\n",
    "    # specify parameters for the stft and istft\n",
    "    hop = win_size // 2\n",
    "    win = 'hamming'\n",
    "    i = 0\n",
    "\n",
    "    # iterate over all the files in the folder\n",
    "    for file in all_files:\n",
    "        spec_db = np.load(f'{folder_path}/{file}')\n",
    "        inverse_spec = np.array(10**(spec_db[0][0]/20))\n",
    "        try:\n",
    "            y_reconstructed = mfgla(inverse_spec, iterations=1000, stft_kwargs={'n_fft': win_size, 'hop_length': hop, 'window' : win, 'center' : None }\n",
    "                                , istft_kwargs={'n_fft': win_size, 'hop_length': hop, 'window' : win, 'center' : None })\n",
    "        except Exception as e:\n",
    "            print(f\"Error processing {file} - {e}\")\n",
    "            continue\n",
    "\n",
    "        # gater the sample rate of the file\n",
    "        sr = sample_rate_dict[file.replace(\"npy\",\"wav\")]\n",
    "\n",
    "        # save file as an .wav file\n",
    "        sf.write(f'results_audio/urbansound{str(win_size)}/' + file.replace(\"npy\",\"wav\"), y_reconstructed, sr)\n",
    "        \n",
    "        print(f\"Processed {i}/{len(all_files)} files\")\n",
    "        i += 1"
   ]
  }
 ],
 "metadata": {
  "kernelspec": {
   "display_name": "thesis",
   "language": "python",
   "name": "python3"
  },
  "language_info": {
   "codemirror_mode": {
    "name": "ipython",
    "version": 3
   },
   "file_extension": ".py",
   "mimetype": "text/x-python",
   "name": "python",
   "nbconvert_exporter": "python",
   "pygments_lexer": "ipython3",
   "version": "3.9.18"
  }
 },
 "nbformat": 4,
 "nbformat_minor": 2
}
