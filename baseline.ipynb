{
 "cells": [
  {
   "cell_type": "code",
   "execution_count": 4,
   "metadata": {},
   "outputs": [],
   "source": [
    "from utils_com import *\n",
    "from griffin_lim import *"
   ]
  },
  {
   "cell_type": "code",
   "execution_count": null,
   "metadata": {},
   "outputs": [],
   "source": [
    "# Urbansound signal reconstrunction using griffin lim\n",
    "\n",
    "win_sizes = [512, 1024, 2048]\n",
    "sr = 48000\n",
    "for win_size in win_sizes:\n",
    "        \n",
    "    folder_path = f\"spectrogram_urban/{win_size}/Original/\"\n",
    "    all_files = os.listdir(folder_path)\n",
    "\n",
    "    hop = win_size // 2\n",
    "    win = 'hamming'\n",
    "    i = 0\n",
    "    for file in all_files:\n",
    "        spec_db = np.load(f'{folder_path}/{file}')\n",
    "        inverse_spec = np.array(10**(spec_db/20))\n",
    "        try:\n",
    "            y_reconstructed = mfgla(inverse_spec, iterations=1000, stft_kwargs={'n_fft': win_size, 'hop_length': hop, 'window' : win, 'center' : None }\n",
    "                                , istft_kwargs={'n_fft': win_size, 'hop_length': hop, 'window' : win, 'center' : None })\n",
    "        except Exception as e:\n",
    "            print(f\"Error processing {file} - {e}\")\n",
    "            continue\n",
    "        sf.write(f'baseline_recon/urbansound{str(win_size)}/' + file.replace(\"npy\",\"wav\"), y_reconstructed, sr)\n",
    "        \n",
    "        print(f\"Processed {i}/{len(all_files)} files {win_size}\")\n",
    "        i += 1"
   ]
  },
  {
   "cell_type": "code",
   "execution_count": null,
   "metadata": {},
   "outputs": [],
   "source": [
    "\n",
    "# audio mnist signal reconstrunction using griffin lim\n",
    "\n",
    "win_sizes = [512, 1024, 2048]\n",
    "sr = 48000\n",
    "for win_size in win_sizes:\n",
    "        \n",
    "    folder_path = f\"spectrogram/{win_size}/Original/\"\n",
    "    all_files = os.listdir(folder_path)\n",
    "\n",
    "    hop = win_size // 2\n",
    "    win = 'hamming'\n",
    "    i = 0\n",
    "    for file in all_files:\n",
    "        spec_db = np.load(f'{folder_path}/{file}')\n",
    "        inverse_spec = np.array(10**(spec_db/20))\n",
    "        try:\n",
    "            y_reconstructed = mfgla(inverse_spec, iterations=1000, stft_kwargs={'n_fft': win_size, 'hop_length': hop, 'window' : win, 'center' : None }\n",
    "                                , istft_kwargs={'n_fft': win_size, 'hop_length': hop, 'window' : win, 'center' : None })\n",
    "        except Exception as e:\n",
    "            print(f\"Error processing {file} - {e}\")\n",
    "            continue\n",
    "        sf.write(f'baseline_recon/audio_mnist{str(win_size)}/' + file.replace(\"npy\",\"wav\"), y_reconstructed, sr)\n",
    "        \n",
    "        print(f\"Processed {i}/{len(all_files)} files\")\n",
    "        i += 1\n"
   ]
  }
 ],
 "metadata": {
  "kernelspec": {
   "display_name": "Python 3",
   "language": "python",
   "name": "python3"
  },
  "language_info": {
   "codemirror_mode": {
    "name": "ipython",
    "version": 3
   },
   "file_extension": ".py",
   "mimetype": "text/x-python",
   "name": "python",
   "nbconvert_exporter": "python",
   "pygments_lexer": "ipython3",
   "version": "3.10.5"
  },
  "orig_nbformat": 4,
  "vscode": {
   "interpreter": {
    "hash": "aee8b7b246df8f9039afb4144a1f6fd8d2ca17a180786b69acc140d282b71a49"
   }
  }
 },
 "nbformat": 4,
 "nbformat_minor": 2
}
